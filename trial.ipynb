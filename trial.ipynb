{
 "cells": [
  {
   "cell_type": "code",
   "execution_count": 3,
   "id": "f5b95f93",
   "metadata": {},
   "outputs": [],
   "source": [
    "from langchain_community.document_loaders import PyPDFLoader\n",
    "from langchain.text_splitter import RecursiveCharacterTextSplitter\n",
    "from langchain_google_genai import GoogleGenerativeAIEmbeddings\n",
    "from dotenv import load_dotenv\n",
    "\n",
    "import getpass\n",
    "import os\n",
    "load_dotenv()\n",
    "\n",
    "google_api_key = os.getenv(\"GEMINI_API_KEY\")\n",
    "\n",
    "file_path = \"data\\How To Win Friends And Influence People - Carnegie, Dale.pdf\"\n",
    "loader = PyPDFLoader(file_path)\n",
    "docs = loader.load() # list of document which contain page content and meta data\n",
    "\n",
    "splitter= RecursiveCharacterTextSplitter(\n",
    "    chunk_size=1000,\n",
    "    chunk_overlap=200,\n",
    ")\n",
    "\n",
    "# list of chuncks which contain page content and meta data\n",
    "chuncks=splitter.split_documents(docs)\n"
   ]
  },
  {
   "cell_type": "code",
   "execution_count": 5,
   "id": "23c92014",
   "metadata": {},
   "outputs": [
    {
     "data": {
      "text/plain": [
       "587"
      ]
     },
     "execution_count": 5,
     "metadata": {},
     "output_type": "execute_result"
    }
   ],
   "source": [
    "len(chuncks)"
   ]
  },
  {
   "cell_type": "code",
   "execution_count": 7,
   "id": "4b75c649-2278-42ae-9252-66f92da47664",
   "metadata": {},
   "outputs": [
    {
     "data": {
      "text/plain": [
       "Document(metadata={'producer': 'calibre (0.9.35) [http://calibre-ebook.com]', 'creator': 'calibre (0.9.35) [http://calibre-ebook.com]', 'creationdate': '2023-02-08T19:32:36+00:00', 'author': 'Carnegie, Dale', 'moddate': '2023-02-08T19:32:37+00:00', 'title': 'How To Win Friends And Influence People', 'source': 'data\\\\How To Win Friends And Influence People - Carnegie, Dale.pdf', 'total_pages': 232, 'page': 1, 'page_label': '2'}, page_content='CONTENTS\\nCover\\nAbout the Author\\nAlso by Dale Carnegie\\nTitle Page\\nDedication\\nPreface to revised edition\\nHow this book was written – and why\\nNine suggestions on how to get the most out of this book\\nPART ONE: FUNDAMENTAL TECHNIQUES IN HANDLING\\nPEOPLE\\n1 ‘If You Want to Gather Honey, Don’t Kick Over the Beehive’\\n2 The Big Secret of Dealing with People\\n3 ‘He Who Can Do This Has the Whole World with Him. He Who\\nCannot Walks a Lonely Way’\\nPART TWO: SIX WAYS TO MAKE PEOPLE LIKE YOU\\n1 Do This and You’ll Be Welcome Anywhere\\n2 A Simple Way to Make a Good First Impression\\n3 If You Don’t Do This, You Are Headed for Trouble\\n4 An Easy Way to Become a Good Conversationalist\\n5 How to Interest People')"
      ]
     },
     "execution_count": 7,
     "metadata": {},
     "output_type": "execute_result"
    }
   ],
   "source": [
    "chuncks[0]"
   ]
  },
  {
   "cell_type": "code",
   "execution_count": 14,
   "id": "5055d6f1-1ea6-4dd8-a9b7-7dd74cfa2d50",
   "metadata": {},
   "outputs": [],
   "source": [
    "text=[]\n",
    "for chunck in chuncks:\n",
    "    text.append(chunck.page_content)"
   ]
  },
  {
   "cell_type": "code",
   "execution_count": 15,
   "id": "761075b9-f007-4c88-92e9-a0c45fdc6b3a",
   "metadata": {},
   "outputs": [
    {
     "data": {
      "text/plain": [
       "list"
      ]
     },
     "execution_count": 15,
     "metadata": {},
     "output_type": "execute_result"
    }
   ],
   "source": [
    "type(text)"
   ]
  },
  {
   "cell_type": "code",
   "execution_count": 17,
   "id": "4ec2c9e5-4ff5-4eae-9294-b59306d80ce9",
   "metadata": {},
   "outputs": [
    {
     "data": {
      "text/plain": [
       "'sixty-five because of his belligerence, because of his inability to lead people\\nskillfully. This training not only saved him from the demotion but brought\\nhim a promotion with increased pay.\\nOn innumerable occasions, spouses attending the banquet given at the\\nend of the course have told me that their homes have been much happier\\nsince their husbands or wives started this training.\\nPeople are frequently astonished at the new results they achieve. It all\\nseems like magic. In some cases, in their enthusiasm, they have telephoned\\nme at my home on Sundays because they couldn’t wait forty-eight hours to\\nreport on their achievements at the regular session of the course.\\nOne man was so stirred by a talk on these principles that he sat far into\\nthe night discussing them with other members of the class. At three o’clock\\nin the morning, the others went home. But he was so shaken by a realisation\\nof his own mistakes, so inspired by the vista of a new and richer world'"
      ]
     },
     "execution_count": 17,
     "metadata": {},
     "output_type": "execute_result"
    }
   ],
   "source": [
    "text[23]"
   ]
  },
  {
   "cell_type": "code",
   "execution_count": null,
   "id": "2eecd276-b293-415e-ab0e-f91e6d03766d",
   "metadata": {},
   "outputs": [],
   "source": []
  }
 ],
 "metadata": {
  "kernelspec": {
   "display_name": "Python 3 (ipykernel)",
   "language": "python",
   "name": "python3"
  },
  "language_info": {
   "codemirror_mode": {
    "name": "ipython",
    "version": 3
   },
   "file_extension": ".py",
   "mimetype": "text/x-python",
   "name": "python",
   "nbconvert_exporter": "python",
   "pygments_lexer": "ipython3",
   "version": "3.11.7"
  }
 },
 "nbformat": 4,
 "nbformat_minor": 5
}
